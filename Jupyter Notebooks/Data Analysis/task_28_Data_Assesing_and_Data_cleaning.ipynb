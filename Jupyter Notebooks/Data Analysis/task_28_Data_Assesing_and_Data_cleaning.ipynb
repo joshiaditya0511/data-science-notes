{
 "cells": [
  {
   "cell_type": "markdown",
   "metadata": {
    "id": "1-EbgBO3hInD"
   },
   "source": [
    "**Problem:**\n",
    "\n",
    "You are given the following dataset:\n",
    "1. **Audible Data** : https://1drv.ms/u/s!AiqdXCxPTydhoog8ckLN-6Cw55fzIg?e=EWgZ5d\n",
    "\n",
    "Your task is to:\n",
    "- Find the problems with the datasets.\n",
    "- Define the Data Quality Dimensions.\n",
    "- Try to clean the datasets."
   ]
  },
  {
   "cell_type": "code",
   "execution_count": 59,
   "metadata": {
    "id": "nxoqZxJMhI_y"
   },
   "outputs": [],
   "source": [
    "import pandas as pd\n",
    "import numpy as np\n",
    "import re\n",
    "import datetime"
   ]
  },
  {
   "cell_type": "markdown",
   "metadata": {},
   "source": [
    "## Issues with the data\n",
    "\n",
    "\n",
    "\n",
    "### Dirty Data\n",
    "    1. \n",
    "\n",
    "\n",
    "\n",
    "### Messy Data\n",
    "    1. There seems to be some formatting errors while writing names of non English books in the 'name' column.\n",
    "    2. There are unnecessary prefixes 'Writtenby:' and 'Narratedby:' in the 'author' and 'narrator' columns respectively.\n",
    "    3. The name of the author are a single word instead of separated names, same for the narrators.\n",
    "    4. Time is given in hrs and mins instead of a common standard unit.\n",
    "    5. The release date is sometimes separated by hyphens, sometimes by slashes. Needs a common format. The year is sometimes in yy format, sometimes in yyyy format.\n",
    "    6. The rating is given in string format and is combined with no. of votes given. The unrated books are noted by 'Not rated yet'\n",
    "    7. The price is integer and float mixed.\n"
   ]
  },
  {
   "cell_type": "code",
   "execution_count": 26,
   "metadata": {},
   "outputs": [],
   "source": [
    "df = pd.read_csv(r\"../Datasets/audible.csv\")"
   ]
  },
  {
   "cell_type": "code",
   "execution_count": 27,
   "metadata": {},
   "outputs": [
    {
     "data": {
      "text/html": [
       "<div>\n",
       "<style scoped>\n",
       "    .dataframe tbody tr th:only-of-type {\n",
       "        vertical-align: middle;\n",
       "    }\n",
       "\n",
       "    .dataframe tbody tr th {\n",
       "        vertical-align: top;\n",
       "    }\n",
       "\n",
       "    .dataframe thead th {\n",
       "        text-align: right;\n",
       "    }\n",
       "</style>\n",
       "<table border=\"1\" class=\"dataframe\">\n",
       "  <thead>\n",
       "    <tr style=\"text-align: right;\">\n",
       "      <th></th>\n",
       "      <th>name</th>\n",
       "      <th>author</th>\n",
       "      <th>narrator</th>\n",
       "      <th>time</th>\n",
       "      <th>releasedate</th>\n",
       "      <th>language</th>\n",
       "      <th>stars</th>\n",
       "      <th>price</th>\n",
       "    </tr>\n",
       "  </thead>\n",
       "  <tbody>\n",
       "    <tr>\n",
       "      <th>0</th>\n",
       "      <td>Geronimo Stilton #11 &amp; #12</td>\n",
       "      <td>Writtenby:GeronimoStilton</td>\n",
       "      <td>Narratedby:BillLobely</td>\n",
       "      <td>2 hrs and 20 mins</td>\n",
       "      <td>4-8-2008</td>\n",
       "      <td>English</td>\n",
       "      <td>5 out of 5 stars34 ratings</td>\n",
       "      <td>468</td>\n",
       "    </tr>\n",
       "    <tr>\n",
       "      <th>1</th>\n",
       "      <td>The Burning Maze</td>\n",
       "      <td>Writtenby:RickRiordan</td>\n",
       "      <td>Narratedby:RobbieDaymond</td>\n",
       "      <td>13 hrs and 8 mins</td>\n",
       "      <td>1-5-2018</td>\n",
       "      <td>English</td>\n",
       "      <td>4.5 out of 5 stars41 ratings</td>\n",
       "      <td>820</td>\n",
       "    </tr>\n",
       "    <tr>\n",
       "      <th>2</th>\n",
       "      <td>The Deep End</td>\n",
       "      <td>Writtenby:JeffKinney</td>\n",
       "      <td>Narratedby:DanRussell</td>\n",
       "      <td>2 hrs and 3 mins</td>\n",
       "      <td>6-11-2020</td>\n",
       "      <td>English</td>\n",
       "      <td>4.5 out of 5 stars38 ratings</td>\n",
       "      <td>410</td>\n",
       "    </tr>\n",
       "    <tr>\n",
       "      <th>3</th>\n",
       "      <td>Daughter of the Deep</td>\n",
       "      <td>Writtenby:RickRiordan</td>\n",
       "      <td>Narratedby:SoneelaNankani</td>\n",
       "      <td>11 hrs and 16 mins</td>\n",
       "      <td>5-10-2021</td>\n",
       "      <td>English</td>\n",
       "      <td>4.5 out of 5 stars12 ratings</td>\n",
       "      <td>615</td>\n",
       "    </tr>\n",
       "    <tr>\n",
       "      <th>4</th>\n",
       "      <td>The Lightning Thief: Percy Jackson, Book 1</td>\n",
       "      <td>Writtenby:RickRiordan</td>\n",
       "      <td>Narratedby:JesseBernstein</td>\n",
       "      <td>10 hrs</td>\n",
       "      <td>1-13-2010</td>\n",
       "      <td>English</td>\n",
       "      <td>4.5 out of 5 stars181 ratings</td>\n",
       "      <td>820</td>\n",
       "    </tr>\n",
       "    <tr>\n",
       "      <th>...</th>\n",
       "      <td>...</td>\n",
       "      <td>...</td>\n",
       "      <td>...</td>\n",
       "      <td>...</td>\n",
       "      <td>...</td>\n",
       "      <td>...</td>\n",
       "      <td>...</td>\n",
       "      <td>...</td>\n",
       "    </tr>\n",
       "    <tr>\n",
       "      <th>87484</th>\n",
       "      <td>Last Days of the Bus Club</td>\n",
       "      <td>Writtenby:ChrisStewart</td>\n",
       "      <td>Narratedby:ChrisStewart</td>\n",
       "      <td>7 hrs and 34 mins</td>\n",
       "      <td>9-3-2017</td>\n",
       "      <td>English</td>\n",
       "      <td>Not rated yet</td>\n",
       "      <td>596</td>\n",
       "    </tr>\n",
       "    <tr>\n",
       "      <th>87485</th>\n",
       "      <td>The Alps</td>\n",
       "      <td>Writtenby:StephenO'Shea</td>\n",
       "      <td>Narratedby:RobertFass</td>\n",
       "      <td>10 hrs and 7 mins</td>\n",
       "      <td>21-02-17</td>\n",
       "      <td>English</td>\n",
       "      <td>Not rated yet</td>\n",
       "      <td>820</td>\n",
       "    </tr>\n",
       "    <tr>\n",
       "      <th>87486</th>\n",
       "      <td>The Innocents Abroad</td>\n",
       "      <td>Writtenby:MarkTwain</td>\n",
       "      <td>Narratedby:FloGibson</td>\n",
       "      <td>19 hrs and 4 mins</td>\n",
       "      <td>30-12-16</td>\n",
       "      <td>English</td>\n",
       "      <td>Not rated yet</td>\n",
       "      <td>938</td>\n",
       "    </tr>\n",
       "    <tr>\n",
       "      <th>87487</th>\n",
       "      <td>A Sentimental Journey</td>\n",
       "      <td>Writtenby:LaurenceSterne</td>\n",
       "      <td>Narratedby:AntonLesser</td>\n",
       "      <td>4 hrs and 8 mins</td>\n",
       "      <td>23-02-11</td>\n",
       "      <td>English</td>\n",
       "      <td>Not rated yet</td>\n",
       "      <td>680</td>\n",
       "    </tr>\n",
       "    <tr>\n",
       "      <th>87488</th>\n",
       "      <td>Havana</td>\n",
       "      <td>Writtenby:MarkKurlansky</td>\n",
       "      <td>Narratedby:FleetCooper</td>\n",
       "      <td>6 hrs and 1 min</td>\n",
       "      <td>7-3-2017</td>\n",
       "      <td>English</td>\n",
       "      <td>Not rated yet</td>\n",
       "      <td>569</td>\n",
       "    </tr>\n",
       "  </tbody>\n",
       "</table>\n",
       "<p>87489 rows × 8 columns</p>\n",
       "</div>"
      ],
      "text/plain": [
       "                                             name                     author  \\\n",
       "0                      Geronimo Stilton #11 & #12  Writtenby:GeronimoStilton   \n",
       "1                                The Burning Maze      Writtenby:RickRiordan   \n",
       "2                                    The Deep End       Writtenby:JeffKinney   \n",
       "3                            Daughter of the Deep      Writtenby:RickRiordan   \n",
       "4      The Lightning Thief: Percy Jackson, Book 1      Writtenby:RickRiordan   \n",
       "...                                           ...                        ...   \n",
       "87484                   Last Days of the Bus Club     Writtenby:ChrisStewart   \n",
       "87485                                    The Alps    Writtenby:StephenO'Shea   \n",
       "87486                        The Innocents Abroad        Writtenby:MarkTwain   \n",
       "87487                       A Sentimental Journey   Writtenby:LaurenceSterne   \n",
       "87488                                      Havana    Writtenby:MarkKurlansky   \n",
       "\n",
       "                        narrator                time releasedate language  \\\n",
       "0          Narratedby:BillLobely   2 hrs and 20 mins    4-8-2008  English   \n",
       "1       Narratedby:RobbieDaymond   13 hrs and 8 mins    1-5-2018  English   \n",
       "2          Narratedby:DanRussell    2 hrs and 3 mins   6-11-2020  English   \n",
       "3      Narratedby:SoneelaNankani  11 hrs and 16 mins   5-10-2021  English   \n",
       "4      Narratedby:JesseBernstein              10 hrs   1-13-2010  English   \n",
       "...                          ...                 ...         ...      ...   \n",
       "87484    Narratedby:ChrisStewart   7 hrs and 34 mins    9-3-2017  English   \n",
       "87485      Narratedby:RobertFass   10 hrs and 7 mins    21-02-17  English   \n",
       "87486       Narratedby:FloGibson   19 hrs and 4 mins    30-12-16  English   \n",
       "87487     Narratedby:AntonLesser    4 hrs and 8 mins    23-02-11  English   \n",
       "87488     Narratedby:FleetCooper     6 hrs and 1 min    7-3-2017  English   \n",
       "\n",
       "                               stars price  \n",
       "0         5 out of 5 stars34 ratings   468  \n",
       "1       4.5 out of 5 stars41 ratings   820  \n",
       "2       4.5 out of 5 stars38 ratings   410  \n",
       "3       4.5 out of 5 stars12 ratings   615  \n",
       "4      4.5 out of 5 stars181 ratings   820  \n",
       "...                              ...   ...  \n",
       "87484                  Not rated yet   596  \n",
       "87485                  Not rated yet   820  \n",
       "87486                  Not rated yet   938  \n",
       "87487                  Not rated yet   680  \n",
       "87488                  Not rated yet   569  \n",
       "\n",
       "[87489 rows x 8 columns]"
      ]
     },
     "execution_count": 27,
     "metadata": {},
     "output_type": "execute_result"
    }
   ],
   "source": [
    "df"
   ]
  },
  {
   "cell_type": "code",
   "execution_count": 28,
   "metadata": {},
   "outputs": [],
   "source": [
    "# Cleaning the authors and narrator columns\n",
    "\n",
    "df['author'] = df['author'].apply(lambda x: re.search(r\"^Writtenby:(.*)$\", x).group(1))\n",
    "\n",
    "df['narrator'] = df['narrator'].apply(lambda x: re.search(r\"^Narratedby:(.*)$\", x).group(1))"
   ]
  },
  {
   "cell_type": "code",
   "execution_count": 29,
   "metadata": {},
   "outputs": [
    {
     "data": {
      "text/plain": [
       "array([<class 'str'>], dtype=object)"
      ]
     },
     "execution_count": 29,
     "metadata": {},
     "output_type": "execute_result"
    }
   ],
   "source": [
    "# Checking for dtypes in all columns\n",
    "\n",
    "df['name'].apply(lambda x:type(x)).unique()"
   ]
  },
  {
   "cell_type": "code",
   "execution_count": 30,
   "metadata": {},
   "outputs": [
    {
     "data": {
      "text/plain": [
       "0"
      ]
     },
     "execution_count": 30,
     "metadata": {},
     "output_type": "execute_result"
    }
   ],
   "source": [
    "# Checking for null values in all columns\n",
    "\n",
    "df['name'].isnull().sum()"
   ]
  },
  {
   "cell_type": "code",
   "execution_count": null,
   "metadata": {},
   "outputs": [],
   "source": [
    "def cleaning_time(x:str) -> str:\n",
    "    mt = re.search(\"^(?:([0-9]*) (?:hr|hrs))?(?: and )?(?:([0-9]*) ?(?:min|mins)?)$\", x)\n",
    "    if mt == None:\n",
    "        return pd.Timedelta('1 min')\n",
    "    else:\n",
    "        return pd.Timedelta(f'mt')\n",
    "\n",
    "df['time'] = df['time'].apply(cleaning_time)"
   ]
  },
  {
   "cell_type": "code",
   "execution_count": 62,
   "metadata": {},
   "outputs": [
    {
     "data": {
      "text/plain": [
       "'96'"
      ]
     },
     "execution_count": 62,
     "metadata": {},
     "output_type": "execute_result"
    }
   ],
   "source": [
    "re.search(r'^([0-9]*)(?: (hrs|hr))?(?: and )?([0-9]*)?(?: (mins|min))?$',\"96 mins\").group(1)"
   ]
  },
  {
   "cell_type": "code",
   "execution_count": 54,
   "metadata": {},
   "outputs": [
    {
     "data": {
      "text/plain": [
       "True"
      ]
     },
     "execution_count": 54,
     "metadata": {},
     "output_type": "execute_result"
    }
   ],
   "source": [
    "re.search(\"^(?:([0-9]*) (?:hr|hrs))?(?: and )?(?:([0-9]*) ?(?:min|mins)?)$\", \"Lesss than 1 minute\") == None"
   ]
  },
  {
   "cell_type": "code",
   "execution_count": 34,
   "metadata": {
    "scrolled": true
   },
   "outputs": [
    {
     "data": {
      "text/html": [
       "<div>\n",
       "<style scoped>\n",
       "    .dataframe tbody tr th:only-of-type {\n",
       "        vertical-align: middle;\n",
       "    }\n",
       "\n",
       "    .dataframe tbody tr th {\n",
       "        vertical-align: top;\n",
       "    }\n",
       "\n",
       "    .dataframe thead th {\n",
       "        text-align: right;\n",
       "    }\n",
       "</style>\n",
       "<table border=\"1\" class=\"dataframe\">\n",
       "  <thead>\n",
       "    <tr style=\"text-align: right;\">\n",
       "      <th></th>\n",
       "      <th>name</th>\n",
       "      <th>author</th>\n",
       "      <th>narrator</th>\n",
       "      <th>time</th>\n",
       "      <th>releasedate</th>\n",
       "      <th>language</th>\n",
       "      <th>stars</th>\n",
       "      <th>price</th>\n",
       "    </tr>\n",
       "  </thead>\n",
       "  <tbody>\n",
       "    <tr>\n",
       "      <th>1401</th>\n",
       "      <td>The Story of Ice Cream</td>\n",
       "      <td>StacyTaus-Bolstad</td>\n",
       "      <td>BookBuddyDigitalMedia</td>\n",
       "      <td>Less than 1 minute</td>\n",
       "      <td>1-1-2021</td>\n",
       "      <td>English</td>\n",
       "      <td>Not rated yet</td>\n",
       "      <td>164</td>\n",
       "    </tr>\n",
       "    <tr>\n",
       "      <th>1403</th>\n",
       "      <td>The Story of Salt</td>\n",
       "      <td>LisaOwings</td>\n",
       "      <td>BookBuddyDigitalMedia</td>\n",
       "      <td>Less than 1 minute</td>\n",
       "      <td>1-1-2021</td>\n",
       "      <td>English</td>\n",
       "      <td>Not rated yet</td>\n",
       "      <td>164</td>\n",
       "    </tr>\n",
       "    <tr>\n",
       "      <th>1404</th>\n",
       "      <td>The Story of Milk</td>\n",
       "      <td>StacyTaus-Bolstad</td>\n",
       "      <td>BookBuddyDigitalMedia</td>\n",
       "      <td>Less than 1 minute</td>\n",
       "      <td>1-1-2021</td>\n",
       "      <td>English</td>\n",
       "      <td>Not rated yet</td>\n",
       "      <td>164</td>\n",
       "    </tr>\n",
       "    <tr>\n",
       "      <th>1408</th>\n",
       "      <td>The Story of an Apple</td>\n",
       "      <td>StacyTaus-Bolstad</td>\n",
       "      <td>BookBuddyDigitalMedia</td>\n",
       "      <td>Less than 1 minute</td>\n",
       "      <td>1-1-2021</td>\n",
       "      <td>English</td>\n",
       "      <td>Not rated yet</td>\n",
       "      <td>164</td>\n",
       "    </tr>\n",
       "    <tr>\n",
       "      <th>1409</th>\n",
       "      <td>We Like the Summer</td>\n",
       "      <td>KatiePeters</td>\n",
       "      <td>BookBuddyDigitalMedia</td>\n",
       "      <td>Less than 1 minute</td>\n",
       "      <td>1-1-2021</td>\n",
       "      <td>English</td>\n",
       "      <td>Not rated yet</td>\n",
       "      <td>164</td>\n",
       "    </tr>\n",
       "    <tr>\n",
       "      <th>...</th>\n",
       "      <td>...</td>\n",
       "      <td>...</td>\n",
       "      <td>...</td>\n",
       "      <td>...</td>\n",
       "      <td>...</td>\n",
       "      <td>...</td>\n",
       "      <td>...</td>\n",
       "      <td>...</td>\n",
       "    </tr>\n",
       "    <tr>\n",
       "      <th>87171</th>\n",
       "      <td>ç¬¬äºŒåäº”è©±ã‚µãƒ³ãƒ»ãƒŸã‚·ã‚§ãƒ«ã®ã„ã„ã...</td>\n",
       "      <td>æ£®æœ¬å“²éƒŽ</td>\n",
       "      <td>å°é‡Žç”°è‹±ä¸€</td>\n",
       "      <td>Less than 1 minute</td>\n",
       "      <td>20-11-15</td>\n",
       "      <td>japanese</td>\n",
       "      <td>Not rated yet</td>\n",
       "      <td>139</td>\n",
       "    </tr>\n",
       "    <tr>\n",
       "      <th>87175</th>\n",
       "      <td>ç¬¬ä¹è©±ã‚ªãƒ©ãƒ³æœ€å¾Œã®å¤•ã¹ï¼šã¼ãã®æ...</td>\n",
       "      <td>æ£®æœ¬å“²éƒŽ</td>\n",
       "      <td>å°é‡Žç”°è‹±ä¸€</td>\n",
       "      <td>Less than 1 minute</td>\n",
       "      <td>19-11-15</td>\n",
       "      <td>japanese</td>\n",
       "      <td>Not rated yet</td>\n",
       "      <td>139</td>\n",
       "    </tr>\n",
       "    <tr>\n",
       "      <th>87176</th>\n",
       "      <td>ç¬¬ä¸€è©±ãƒªãƒ¥ãƒ¼ãƒ™ãƒƒã‚¯ã®è¿½æ†¶:ã¼ãã®...</td>\n",
       "      <td>æ£®æœ¬å“²éƒŽ</td>\n",
       "      <td>å°é‡Žç”°è‹±ä¸€</td>\n",
       "      <td>Less than 1 minute</td>\n",
       "      <td>23-07-15</td>\n",
       "      <td>japanese</td>\n",
       "      <td>Not rated yet</td>\n",
       "      <td>139</td>\n",
       "    </tr>\n",
       "    <tr>\n",
       "      <th>87180</th>\n",
       "      <td>ç¬¬ä¸ƒè©±ãƒã‚°ãƒ€ãƒ¼ãƒ‰ã®èŒ¶å±‹:ã¼ãã®æ—…...</td>\n",
       "      <td>æ£®æœ¬å“²éƒŽ</td>\n",
       "      <td>å°é‡Žç”°è‹±ä¸€</td>\n",
       "      <td>Less than 1 minute</td>\n",
       "      <td>13-07-15</td>\n",
       "      <td>japanese</td>\n",
       "      <td>Not rated yet</td>\n",
       "      <td>139</td>\n",
       "    </tr>\n",
       "    <tr>\n",
       "      <th>87192</th>\n",
       "      <td>ç¬¬åå…«è©±ãƒãƒ³ã‚³ãƒƒã‚¯ã®æ†‚é¬±ï¼šã¼ãã...</td>\n",
       "      <td>æ£®æœ¬å“²éƒŽ</td>\n",
       "      <td>å°é‡Žç”°è‹±ä¸€</td>\n",
       "      <td>Less than 1 minute</td>\n",
       "      <td>19-11-15</td>\n",
       "      <td>japanese</td>\n",
       "      <td>Not rated yet</td>\n",
       "      <td>139</td>\n",
       "    </tr>\n",
       "  </tbody>\n",
       "</table>\n",
       "<p>61 rows × 8 columns</p>\n",
       "</div>"
      ],
      "text/plain": [
       "                                                    name             author  \\\n",
       "1401                              The Story of Ice Cream  StacyTaus-Bolstad   \n",
       "1403                                   The Story of Salt         LisaOwings   \n",
       "1404                                   The Story of Milk  StacyTaus-Bolstad   \n",
       "1408                               The Story of an Apple  StacyTaus-Bolstad   \n",
       "1409                                  We Like the Summer        KatiePeters   \n",
       "...                                                  ...                ...   \n",
       "87171  ç¬¬äºŒåäº”è©±ã‚µãƒ³ãƒ»ãƒŸã‚·ã‚§ãƒ«ã®ã„ã„ã...       æ£®æœ¬å“²éƒŽ   \n",
       "87175  ç¬¬ä¹è©±ã‚ªãƒ©ãƒ³æœ€å¾Œã®å¤•ã¹ï¼šã¼ãã®æ...       æ£®æœ¬å“²éƒŽ   \n",
       "87176  ç¬¬ä¸€è©±ãƒªãƒ¥ãƒ¼ãƒ™ãƒƒã‚¯ã®è¿½æ†¶:ã¼ãã®...       æ£®æœ¬å“²éƒŽ   \n",
       "87180  ç¬¬ä¸ƒè©±ãƒã‚°ãƒ€ãƒ¼ãƒ‰ã®èŒ¶å±‹:ã¼ãã®æ—…...       æ£®æœ¬å“²éƒŽ   \n",
       "87192  ç¬¬åå…«è©±ãƒãƒ³ã‚³ãƒƒã‚¯ã®æ†‚é¬±ï¼šã¼ãã...       æ£®æœ¬å“²éƒŽ   \n",
       "\n",
       "                    narrator                time releasedate  language  \\\n",
       "1401   BookBuddyDigitalMedia  Less than 1 minute    1-1-2021   English   \n",
       "1403   BookBuddyDigitalMedia  Less than 1 minute    1-1-2021   English   \n",
       "1404   BookBuddyDigitalMedia  Less than 1 minute    1-1-2021   English   \n",
       "1408   BookBuddyDigitalMedia  Less than 1 minute    1-1-2021   English   \n",
       "1409   BookBuddyDigitalMedia  Less than 1 minute    1-1-2021   English   \n",
       "...                      ...                 ...         ...       ...   \n",
       "87171        å°é‡Žç”°è‹±ä¸€  Less than 1 minute    20-11-15  japanese   \n",
       "87175        å°é‡Žç”°è‹±ä¸€  Less than 1 minute    19-11-15  japanese   \n",
       "87176        å°é‡Žç”°è‹±ä¸€  Less than 1 minute    23-07-15  japanese   \n",
       "87180        å°é‡Žç”°è‹±ä¸€  Less than 1 minute    13-07-15  japanese   \n",
       "87192        å°é‡Žç”°è‹±ä¸€  Less than 1 minute    19-11-15  japanese   \n",
       "\n",
       "               stars price  \n",
       "1401   Not rated yet   164  \n",
       "1403   Not rated yet   164  \n",
       "1404   Not rated yet   164  \n",
       "1408   Not rated yet   164  \n",
       "1409   Not rated yet   164  \n",
       "...              ...   ...  \n",
       "87171  Not rated yet   139  \n",
       "87175  Not rated yet   139  \n",
       "87176  Not rated yet   139  \n",
       "87180  Not rated yet   139  \n",
       "87192  Not rated yet   139  \n",
       "\n",
       "[61 rows x 8 columns]"
      ]
     },
     "execution_count": 34,
     "metadata": {},
     "output_type": "execute_result"
    }
   ],
   "source": [
    "df[df.time.str.contains('Less than 1 minute')]"
   ]
  },
  {
   "cell_type": "code",
   "execution_count": 65,
   "metadata": {},
   "outputs": [
    {
     "ename": "TypeError",
     "evalue": "'str' object cannot be interpreted as an integer",
     "output_type": "error",
     "traceback": [
      "\u001b[1;31m---------------------------------------------------------------------------\u001b[0m",
      "\u001b[1;31mTypeError\u001b[0m                                 Traceback (most recent call last)",
      "Cell \u001b[1;32mIn[65], line 2\u001b[0m\n\u001b[0;32m      1\u001b[0m \u001b[38;5;66;03m#pd.Timestamp(\"10 hrs, 3 mins\")\u001b[39;00m\n\u001b[1;32m----> 2\u001b[0m \u001b[43mdatetime\u001b[49m\u001b[38;5;241;43m.\u001b[39;49m\u001b[43mdatetime\u001b[49m\u001b[43m(\u001b[49m\u001b[38;5;124;43m\"\u001b[39;49m\u001b[38;5;124;43m10, 03, 19\u001b[39;49m\u001b[38;5;124;43m\"\u001b[39;49m\u001b[43m)\u001b[49m\n",
      "\u001b[1;31mTypeError\u001b[0m: 'str' object cannot be interpreted as an integer"
     ]
    }
   ],
   "source": [
    "#pd.Timestamp(\"10 hrs, 3 mins\")\n",
    "datetime.datetime(\"10, 03, 19\")"
   ]
  }
 ],
 "metadata": {
  "colab": {
   "provenance": []
  },
  "kernelspec": {
   "display_name": "Python 3 (ipykernel)",
   "language": "python",
   "name": "python3"
  },
  "language_info": {
   "codemirror_mode": {
    "name": "ipython",
    "version": 3
   },
   "file_extension": ".py",
   "mimetype": "text/x-python",
   "name": "python",
   "nbconvert_exporter": "python",
   "pygments_lexer": "ipython3",
   "version": "3.11.2"
  }
 },
 "nbformat": 4,
 "nbformat_minor": 1
}
